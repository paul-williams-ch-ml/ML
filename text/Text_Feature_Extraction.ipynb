{
  "nbformat": 4,
  "nbformat_minor": 0,
  "metadata": {
    "colab": {
      "name": "Text_Feature_Extraction.ipynb",
      "version": "0.3.2",
      "provenance": [],
      "include_colab_link": true
    },
    "kernelspec": {
      "name": "python3",
      "display_name": "Python 3"
    }
  },
  "cells": [
    {
      "cell_type": "markdown",
      "metadata": {
        "id": "view-in-github",
        "colab_type": "text"
      },
      "source": [
        "<a href=\"https://colab.research.google.com/github/paul-williams-ch-ml/ML/blob/master/text/Text_Feature_Extraction.ipynb\" target=\"_parent\"><img src=\"https://colab.research.google.com/assets/colab-badge.svg\" alt=\"Open In Colab\"/></a>"
      ]
    },
    {
      "cell_type": "markdown",
      "metadata": {
        "id": "MS0ouFgkS-h_",
        "colab_type": "text"
      },
      "source": [
        "#Text Feature Extraction.\n",
        "\n",
        "Converting text into numeric values for processing."
      ]
    },
    {
      "cell_type": "code",
      "metadata": {
        "id": "ZdWYq8O0TPML",
        "colab_type": "code",
        "colab": {}
      },
      "source": [
        " from sklearn.feature_extraction.text import CountVectorizer"
      ],
      "execution_count": 0,
      "outputs": []
    },
    {
      "cell_type": "markdown",
      "metadata": {
        "id": "d3GAht0_Zdqr",
        "colab_type": "text"
      },
      "source": [
        "We start with a corpus of 4 documents. Each document is a simple statement."
      ]
    },
    {
      "cell_type": "code",
      "metadata": {
        "id": "bf9ce1LBTeOD",
        "colab_type": "code",
        "colab": {}
      },
      "source": [
        "corpus = ['This is the first document.',\n",
        "          'This is the second document.',\n",
        "          'Third document. Document number three',\n",
        "          'Number four. To repeat, number four']"
      ],
      "execution_count": 0,
      "outputs": []
    },
    {
      "cell_type": "code",
      "metadata": {
        "id": "LHyLPS2OT5lq",
        "colab_type": "code",
        "colab": {}
      },
      "source": [
        "vectorizer = CountVectorizer()\n",
        "bag_of_words = vectorizer.fit_transform(corpus)"
      ],
      "execution_count": 0,
      "outputs": []
    },
    {
      "cell_type": "markdown",
      "metadata": {
        "id": "HqHV74s3Zb89",
        "colab_type": "text"
      },
      "source": [
        "We see that our 'bag_of_words' is helds as a Sparse matrix."
      ]
    },
    {
      "cell_type": "code",
      "metadata": {
        "id": "5LTMXVIfUA2w",
        "colab_type": "code",
        "colab": {
          "base_uri": "https://localhost:8080/",
          "height": 51
        },
        "outputId": "523fe00a-2113-4c78-8e92-c637377c278f"
      },
      "source": [
        "bag_of_words"
      ],
      "execution_count": 28,
      "outputs": [
        {
          "output_type": "execute_result",
          "data": {
            "text/plain": [
              "<4x12 sparse matrix of type '<class 'numpy.int64'>'\n",
              "\twith 18 stored elements in Compressed Sparse Row format>"
            ]
          },
          "metadata": {
            "tags": []
          },
          "execution_count": 28
        }
      ]
    },
    {
      "cell_type": "markdown",
      "metadata": {
        "id": "Btxhul2DZ4gJ",
        "colab_type": "text"
      },
      "source": [
        "Each document is represented by the first column.\n",
        "Each word by the second column.\n",
        "Every word has been assigned a unique index and the number of occurances of the word in the document is displayed in the third column..\n"
      ]
    },
    {
      "cell_type": "code",
      "metadata": {
        "id": "FUb6aBVnT-wC",
        "colab_type": "code",
        "colab": {
          "base_uri": "https://localhost:8080/",
          "height": 323
        },
        "outputId": "2bb7681c-0e7b-461b-915b-49b5378c2b7c"
      },
      "source": [
        "print(bag_of_words)"
      ],
      "execution_count": 45,
      "outputs": [
        {
          "output_type": "stream",
          "text": [
            "  (0, 9)\t1\n",
            "  (0, 3)\t1\n",
            "  (0, 7)\t1\n",
            "  (0, 1)\t1\n",
            "  (0, 0)\t1\n",
            "  (1, 9)\t1\n",
            "  (1, 3)\t1\n",
            "  (1, 7)\t1\n",
            "  (1, 0)\t1\n",
            "  (1, 6)\t1\n",
            "  (2, 0)\t2\n",
            "  (2, 8)\t1\n",
            "  (2, 4)\t1\n",
            "  (2, 10)\t1\n",
            "  (3, 4)\t2\n",
            "  (3, 2)\t2\n",
            "  (3, 11)\t1\n",
            "  (3, 5)\t1\n"
          ],
          "name": "stdout"
        }
      ]
    },
    {
      "cell_type": "markdown",
      "metadata": {
        "id": "OYbHePXsaopj",
        "colab_type": "text"
      },
      "source": [
        "We can identify which index has been assigned to a particular word."
      ]
    },
    {
      "cell_type": "code",
      "metadata": {
        "id": "efI094gbVnC5",
        "colab_type": "code",
        "colab": {
          "base_uri": "https://localhost:8080/",
          "height": 34
        },
        "outputId": "3997fff7-8646-42cf-e95c-fe1193d6a4b1"
      },
      "source": [
        "vectorizer.vocabulary_.get('document')"
      ],
      "execution_count": 30,
      "outputs": [
        {
          "output_type": "execute_result",
          "data": {
            "text/plain": [
              "0"
            ]
          },
          "metadata": {
            "tags": []
          },
          "execution_count": 30
        }
      ]
    },
    {
      "cell_type": "code",
      "metadata": {
        "id": "3YgLw6xVV2LZ",
        "colab_type": "code",
        "colab": {
          "base_uri": "https://localhost:8080/",
          "height": 221
        },
        "outputId": "dfe1bee0-36ad-455c-bc23-50f18f4ec81e"
      },
      "source": [
        "vectorizer.vocabulary_"
      ],
      "execution_count": 22,
      "outputs": [
        {
          "output_type": "execute_result",
          "data": {
            "text/plain": [
              "{'document': 0,\n",
              " 'first': 1,\n",
              " 'four': 2,\n",
              " 'is': 3,\n",
              " 'number': 4,\n",
              " 'repeat': 5,\n",
              " 'second': 6,\n",
              " 'the': 7,\n",
              " 'third': 8,\n",
              " 'this': 9,\n",
              " 'three': 10,\n",
              " 'to': 11}"
            ]
          },
          "metadata": {
            "tags": []
          },
          "execution_count": 22
        }
      ]
    },
    {
      "cell_type": "markdown",
      "metadata": {
        "id": "z9wyFrNSa8RL",
        "colab_type": "text"
      },
      "source": [
        "Placing our data into a Pandas DataFrame."
      ]
    },
    {
      "cell_type": "code",
      "metadata": {
        "id": "OIzhO43gV8gM",
        "colab_type": "code",
        "colab": {
          "base_uri": "https://localhost:8080/",
          "height": 34
        },
        "outputId": "c0419094-6660-4c6f-b770-7c83fdff0701"
      },
      "source": [
        "import pandas as pd\n",
        "print(pd.__version__)"
      ],
      "execution_count": 31,
      "outputs": [
        {
          "output_type": "stream",
          "text": [
            "0.24.2\n"
          ],
          "name": "stdout"
        }
      ]
    },
    {
      "cell_type": "code",
      "metadata": {
        "id": "HQ5kyhEVWpVP",
        "colab_type": "code",
        "colab": {
          "base_uri": "https://localhost:8080/",
          "height": 173
        },
        "outputId": "0fc6ffb4-a33a-401e-85ed-00b6e9eadeaa"
      },
      "source": [
        "pd.DataFrame(bag_of_words.toarray(), columns=vectorizer.get_feature_names())"
      ],
      "execution_count": 33,
      "outputs": [
        {
          "output_type": "execute_result",
          "data": {
            "text/html": [
              "<div>\n",
              "<style scoped>\n",
              "    .dataframe tbody tr th:only-of-type {\n",
              "        vertical-align: middle;\n",
              "    }\n",
              "\n",
              "    .dataframe tbody tr th {\n",
              "        vertical-align: top;\n",
              "    }\n",
              "\n",
              "    .dataframe thead th {\n",
              "        text-align: right;\n",
              "    }\n",
              "</style>\n",
              "<table border=\"1\" class=\"dataframe\">\n",
              "  <thead>\n",
              "    <tr style=\"text-align: right;\">\n",
              "      <th></th>\n",
              "      <th>document</th>\n",
              "      <th>first</th>\n",
              "      <th>four</th>\n",
              "      <th>is</th>\n",
              "      <th>number</th>\n",
              "      <th>repeat</th>\n",
              "      <th>second</th>\n",
              "      <th>the</th>\n",
              "      <th>third</th>\n",
              "      <th>this</th>\n",
              "      <th>three</th>\n",
              "      <th>to</th>\n",
              "    </tr>\n",
              "  </thead>\n",
              "  <tbody>\n",
              "    <tr>\n",
              "      <th>0</th>\n",
              "      <td>1</td>\n",
              "      <td>1</td>\n",
              "      <td>0</td>\n",
              "      <td>1</td>\n",
              "      <td>0</td>\n",
              "      <td>0</td>\n",
              "      <td>0</td>\n",
              "      <td>1</td>\n",
              "      <td>0</td>\n",
              "      <td>1</td>\n",
              "      <td>0</td>\n",
              "      <td>0</td>\n",
              "    </tr>\n",
              "    <tr>\n",
              "      <th>1</th>\n",
              "      <td>1</td>\n",
              "      <td>0</td>\n",
              "      <td>0</td>\n",
              "      <td>1</td>\n",
              "      <td>0</td>\n",
              "      <td>0</td>\n",
              "      <td>1</td>\n",
              "      <td>1</td>\n",
              "      <td>0</td>\n",
              "      <td>1</td>\n",
              "      <td>0</td>\n",
              "      <td>0</td>\n",
              "    </tr>\n",
              "    <tr>\n",
              "      <th>2</th>\n",
              "      <td>2</td>\n",
              "      <td>0</td>\n",
              "      <td>0</td>\n",
              "      <td>0</td>\n",
              "      <td>1</td>\n",
              "      <td>0</td>\n",
              "      <td>0</td>\n",
              "      <td>0</td>\n",
              "      <td>1</td>\n",
              "      <td>0</td>\n",
              "      <td>1</td>\n",
              "      <td>0</td>\n",
              "    </tr>\n",
              "    <tr>\n",
              "      <th>3</th>\n",
              "      <td>0</td>\n",
              "      <td>0</td>\n",
              "      <td>2</td>\n",
              "      <td>0</td>\n",
              "      <td>2</td>\n",
              "      <td>1</td>\n",
              "      <td>0</td>\n",
              "      <td>0</td>\n",
              "      <td>0</td>\n",
              "      <td>0</td>\n",
              "      <td>0</td>\n",
              "      <td>1</td>\n",
              "    </tr>\n",
              "  </tbody>\n",
              "</table>\n",
              "</div>"
            ],
            "text/plain": [
              "   document  first  four  is  number  ...  the  third  this  three  to\n",
              "0         1      1     0   1       0  ...    1      0     1      0   0\n",
              "1         1      0     0   1       0  ...    1      0     1      0   0\n",
              "2         2      0     0   0       1  ...    0      1     0      1   0\n",
              "3         0      0     2   0       2  ...    0      0     0      0   1\n",
              "\n",
              "[4 rows x 12 columns]"
            ]
          },
          "metadata": {
            "tags": []
          },
          "execution_count": 33
        }
      ]
    },
    {
      "cell_type": "markdown",
      "metadata": {
        "id": "JUq414q4bTpv",
        "colab_type": "text"
      },
      "source": [
        "Now we can assign a \"Meaningfullness\" value to each word by using the TfidfVectorizer.\n",
        "\n",
        "The words value is increased the number of uses within a document. Then it is multiplied inversely by it's usage within the entire corpus."
      ]
    },
    {
      "cell_type": "code",
      "metadata": {
        "id": "ZxwzLvJjXbeb",
        "colab_type": "code",
        "colab": {}
      },
      "source": [
        "from sklearn.feature_extraction.text import TfidfVectorizer\n",
        "\n",
        "vectorizer = TfidfVectorizer()\n",
        "bag_of_words = vectorizer.fit_transform(corpus)"
      ],
      "execution_count": 0,
      "outputs": []
    },
    {
      "cell_type": "code",
      "metadata": {
        "id": "FUa1eyQ3Xvsl",
        "colab_type": "code",
        "colab": {
          "base_uri": "https://localhost:8080/",
          "height": 323
        },
        "outputId": "142ae862-48c6-4f97-c59f-827a645ea2bc"
      },
      "source": [
        "print(bag_of_words)"
      ],
      "execution_count": 39,
      "outputs": [
        {
          "output_type": "stream",
          "text": [
            "  (0, 0)\t0.3528554929793508\n",
            "  (0, 1)\t0.5528163151092931\n",
            "  (0, 7)\t0.43584673254990375\n",
            "  (0, 3)\t0.43584673254990375\n",
            "  (0, 9)\t0.43584673254990375\n",
            "  (1, 6)\t0.5528163151092931\n",
            "  (1, 0)\t0.3528554929793508\n",
            "  (1, 7)\t0.43584673254990375\n",
            "  (1, 3)\t0.43584673254990375\n",
            "  (1, 9)\t0.43584673254990375\n",
            "  (2, 10)\t0.4850008395708102\n",
            "  (2, 4)\t0.3823802326982809\n",
            "  (2, 8)\t0.4850008395708102\n",
            "  (2, 0)\t0.6191395067937654\n",
            "  (3, 5)\t0.3432724906138499\n",
            "  (3, 11)\t0.3432724906138499\n",
            "  (3, 2)\t0.6865449812276998\n",
            "  (3, 4)\t0.5412799489419371\n"
          ],
          "name": "stdout"
        }
      ]
    },
    {
      "cell_type": "code",
      "metadata": {
        "id": "__deAfQSYSQp",
        "colab_type": "code",
        "colab": {
          "base_uri": "https://localhost:8080/",
          "height": 34
        },
        "outputId": "7e7296e0-940d-49ee-d1ee-7ee99c9fab63"
      },
      "source": [
        "vectorizer.vocabulary_.get('document')"
      ],
      "execution_count": 41,
      "outputs": [
        {
          "output_type": "execute_result",
          "data": {
            "text/plain": [
              "0"
            ]
          },
          "metadata": {
            "tags": []
          },
          "execution_count": 41
        }
      ]
    },
    {
      "cell_type": "code",
      "metadata": {
        "id": "0G4hAA6CYdRZ",
        "colab_type": "code",
        "colab": {
          "base_uri": "https://localhost:8080/",
          "height": 173
        },
        "outputId": "d92c7831-ed7e-4c37-9a1e-1350e74a9b90"
      },
      "source": [
        "pd.DataFrame(bag_of_words.toarray(), columns=vectorizer.get_feature_names())"
      ],
      "execution_count": 42,
      "outputs": [
        {
          "output_type": "execute_result",
          "data": {
            "text/html": [
              "<div>\n",
              "<style scoped>\n",
              "    .dataframe tbody tr th:only-of-type {\n",
              "        vertical-align: middle;\n",
              "    }\n",
              "\n",
              "    .dataframe tbody tr th {\n",
              "        vertical-align: top;\n",
              "    }\n",
              "\n",
              "    .dataframe thead th {\n",
              "        text-align: right;\n",
              "    }\n",
              "</style>\n",
              "<table border=\"1\" class=\"dataframe\">\n",
              "  <thead>\n",
              "    <tr style=\"text-align: right;\">\n",
              "      <th></th>\n",
              "      <th>document</th>\n",
              "      <th>first</th>\n",
              "      <th>four</th>\n",
              "      <th>is</th>\n",
              "      <th>number</th>\n",
              "      <th>repeat</th>\n",
              "      <th>second</th>\n",
              "      <th>the</th>\n",
              "      <th>third</th>\n",
              "      <th>this</th>\n",
              "      <th>three</th>\n",
              "      <th>to</th>\n",
              "    </tr>\n",
              "  </thead>\n",
              "  <tbody>\n",
              "    <tr>\n",
              "      <th>0</th>\n",
              "      <td>0.352855</td>\n",
              "      <td>0.552816</td>\n",
              "      <td>0.000000</td>\n",
              "      <td>0.435847</td>\n",
              "      <td>0.00000</td>\n",
              "      <td>0.000000</td>\n",
              "      <td>0.000000</td>\n",
              "      <td>0.435847</td>\n",
              "      <td>0.000000</td>\n",
              "      <td>0.435847</td>\n",
              "      <td>0.000000</td>\n",
              "      <td>0.000000</td>\n",
              "    </tr>\n",
              "    <tr>\n",
              "      <th>1</th>\n",
              "      <td>0.352855</td>\n",
              "      <td>0.000000</td>\n",
              "      <td>0.000000</td>\n",
              "      <td>0.435847</td>\n",
              "      <td>0.00000</td>\n",
              "      <td>0.000000</td>\n",
              "      <td>0.552816</td>\n",
              "      <td>0.435847</td>\n",
              "      <td>0.000000</td>\n",
              "      <td>0.435847</td>\n",
              "      <td>0.000000</td>\n",
              "      <td>0.000000</td>\n",
              "    </tr>\n",
              "    <tr>\n",
              "      <th>2</th>\n",
              "      <td>0.619140</td>\n",
              "      <td>0.000000</td>\n",
              "      <td>0.000000</td>\n",
              "      <td>0.000000</td>\n",
              "      <td>0.38238</td>\n",
              "      <td>0.000000</td>\n",
              "      <td>0.000000</td>\n",
              "      <td>0.000000</td>\n",
              "      <td>0.485001</td>\n",
              "      <td>0.000000</td>\n",
              "      <td>0.485001</td>\n",
              "      <td>0.000000</td>\n",
              "    </tr>\n",
              "    <tr>\n",
              "      <th>3</th>\n",
              "      <td>0.000000</td>\n",
              "      <td>0.000000</td>\n",
              "      <td>0.686545</td>\n",
              "      <td>0.000000</td>\n",
              "      <td>0.54128</td>\n",
              "      <td>0.343272</td>\n",
              "      <td>0.000000</td>\n",
              "      <td>0.000000</td>\n",
              "      <td>0.000000</td>\n",
              "      <td>0.000000</td>\n",
              "      <td>0.000000</td>\n",
              "      <td>0.343272</td>\n",
              "    </tr>\n",
              "  </tbody>\n",
              "</table>\n",
              "</div>"
            ],
            "text/plain": [
              "   document     first      four  ...      this     three        to\n",
              "0  0.352855  0.552816  0.000000  ...  0.435847  0.000000  0.000000\n",
              "1  0.352855  0.000000  0.000000  ...  0.435847  0.000000  0.000000\n",
              "2  0.619140  0.000000  0.000000  ...  0.000000  0.485001  0.000000\n",
              "3  0.000000  0.000000  0.686545  ...  0.000000  0.000000  0.343272\n",
              "\n",
              "[4 rows x 12 columns]"
            ]
          },
          "metadata": {
            "tags": []
          },
          "execution_count": 42
        }
      ]
    },
    {
      "cell_type": "markdown",
      "metadata": {
        "id": "EQ6aDn7fd587",
        "colab_type": "text"
      },
      "source": [
        "If you have a large corpus. Then the use of a HashingVectorizer is preferred.\n",
        "\n",
        "**Note:** n_features is the number of Hash Buckets to be created. If the number of Hash Buckets is less than the number of unique word (as is the purpose of this method) then multiple words ar assigned to each hash. In our example we map 12 unique words to 8 Hash Buckets."
      ]
    },
    {
      "cell_type": "code",
      "metadata": {
        "id": "qBETOAfgYu6f",
        "colab_type": "code",
        "colab": {}
      },
      "source": [
        "from sklearn.feature_extraction.text import HashingVectorizer\n",
        "\n",
        "vectorizer = HashingVectorizer(n_features=8)\n",
        "feature_vector = vectorizer.fit_transform(corpus)"
      ],
      "execution_count": 0,
      "outputs": []
    },
    {
      "cell_type": "code",
      "metadata": {
        "id": "tiZDQLqSdjFX",
        "colab_type": "code",
        "colab": {
          "base_uri": "https://localhost:8080/",
          "height": 272
        },
        "outputId": "44568505-4dc6-4b04-eca9-db3e5ddcee30"
      },
      "source": [
        "print(feature_vector)"
      ],
      "execution_count": 48,
      "outputs": [
        {
          "output_type": "stream",
          "text": [
            "  (0, 0)\t-0.8944271909999159\n",
            "  (0, 5)\t0.4472135954999579\n",
            "  (0, 6)\t0.0\n",
            "  (1, 0)\t-0.5773502691896258\n",
            "  (1, 3)\t0.5773502691896258\n",
            "  (1, 5)\t0.5773502691896258\n",
            "  (1, 6)\t0.0\n",
            "  (2, 0)\t-0.7559289460184544\n",
            "  (2, 3)\t0.3779644730092272\n",
            "  (2, 5)\t0.3779644730092272\n",
            "  (2, 7)\t0.3779644730092272\n",
            "  (3, 0)\t0.31622776601683794\n",
            "  (3, 3)\t0.31622776601683794\n",
            "  (3, 5)\t0.6324555320336759\n",
            "  (3, 7)\t0.6324555320336759\n"
          ],
          "name": "stdout"
        }
      ]
    },
    {
      "cell_type": "markdown",
      "metadata": {
        "id": "xOW800f9fs6l",
        "colab_type": "text"
      },
      "source": [
        "**Note:** A disadvantage of Hashing is that there is no way to get back to the words original value."
      ]
    }
  ]
}