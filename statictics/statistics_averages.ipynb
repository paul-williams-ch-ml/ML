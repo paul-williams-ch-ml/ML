{
  "nbformat": 4,
  "nbformat_minor": 0,
  "metadata": {
    "colab": {
      "name": "statistics_averages.ipynb",
      "version": "0.3.2",
      "provenance": [],
      "include_colab_link": true
    },
    "language_info": {
      "codemirror_mode": {
        "name": "ipython",
        "version": 3
      },
      "file_extension": ".py",
      "mimetype": "text/x-python",
      "name": "python",
      "nbconvert_exporter": "python",
      "pygments_lexer": "ipython3",
      "version": "3.6.5"
    },
    "kernelspec": {
      "display_name": "Python 3",
      "language": "python",
      "name": "python3"
    }
  },
  "cells": [
    {
      "cell_type": "markdown",
      "metadata": {
        "id": "view-in-github",
        "colab_type": "text"
      },
      "source": [
        "<a href=\"https://colab.research.google.com/github/paul-williams-ch-ml/ML/blob/master/statictics/statistics_averages.ipynb\" target=\"_parent\"><img src=\"https://colab.research.google.com/assets/colab-badge.svg\" alt=\"Open In Colab\"/></a>"
      ]
    },
    {
      "metadata": {
        "id": "rIo16iDf2R9R",
        "colab_type": "text"
      },
      "cell_type": "markdown",
      "source": [
        "##Averages "
      ]
    },
    {
      "metadata": {
        "id": "1wGInJWM2Swu",
        "colab_type": "code",
        "colab": {}
      },
      "cell_type": "code",
      "source": [
        "import numpy as np\n",
        "from scipy import stats"
      ],
      "execution_count": 0,
      "outputs": []
    },
    {
      "metadata": {
        "id": "JJVZwy_62QFy",
        "colab_type": "code",
        "colab": {}
      },
      "cell_type": "code",
      "source": [
        "data = np.array([4,5,1,2,7,2,6,9,3])"
      ],
      "execution_count": 0,
      "outputs": []
    },
    {
      "metadata": {
        "id": "2AMCCooO2QF2",
        "colab_type": "text"
      },
      "cell_type": "markdown",
      "source": [
        "### Calculate Mean"
      ]
    },
    {
      "metadata": {
        "id": "NaRAgkQq2QF3",
        "colab_type": "code",
        "colab": {},
        "outputId": "f9a668a3-f7dc-49fb-93e3-8d58fedcbb8f"
      },
      "cell_type": "code",
      "source": [
        "dt_mean = np.mean(data);\n",
        "print ('Mean :', round(dt_mean,2))"
      ],
      "execution_count": 0,
      "outputs": [
        {
          "output_type": "stream",
          "text": [
            "Mean : 4.33\n"
          ],
          "name": "stdout"
        }
      ]
    },
    {
      "metadata": {
        "id": "fw7RElFG2QF_",
        "colab_type": "text"
      },
      "cell_type": "markdown",
      "source": [
        "### Calculate Median"
      ]
    },
    {
      "metadata": {
        "id": "lBEvl2dX2QGA",
        "colab_type": "code",
        "colab": {},
        "outputId": "a4e9ddf6-db6d-4c78-93aa-b4c808fd051e"
      },
      "cell_type": "code",
      "source": [
        "dt_median = np.median(data);\n",
        "print ('Median :', round(dt_median))"
      ],
      "execution_count": 0,
      "outputs": [
        {
          "output_type": "stream",
          "text": [
            "Median : 4.0\n"
          ],
          "name": "stdout"
        }
      ]
    },
    {
      "metadata": {
        "id": "IujzgrZH2QGG",
        "colab_type": "text"
      },
      "cell_type": "markdown",
      "source": [
        "### Calculate Mode"
      ]
    },
    {
      "metadata": {
        "id": "Ch8ejwiw2QGH",
        "colab_type": "code",
        "colab": {},
        "outputId": "2961fef9-7061-4178-e78d-d2db3f9407fe"
      },
      "cell_type": "code",
      "source": [
        "dt_mode = stats.mode(data);\n",
        "print ('Mode :', round(dt_mode[0][0]))"
      ],
      "execution_count": 0,
      "outputs": [
        {
          "output_type": "stream",
          "text": [
            "Mode : 2\n"
          ],
          "name": "stdout"
        }
      ]
    }
  ]
}