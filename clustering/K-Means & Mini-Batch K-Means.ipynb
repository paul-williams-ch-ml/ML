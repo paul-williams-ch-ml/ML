{
  "nbformat": 4,
  "nbformat_minor": 0,
  "metadata": {
    "colab": {
      "name": "Untitled1.ipynb",
      "version": "0.3.2",
      "provenance": [],
      "collapsed_sections": [],
      "include_colab_link": true
    },
    "kernelspec": {
      "name": "python3",
      "display_name": "Python 3"
    }
  },
  "cells": [
    {
      "cell_type": "markdown",
      "metadata": {
        "id": "view-in-github",
        "colab_type": "text"
      },
      "source": [
        "<a href=\"https://colab.research.google.com/github/paul-williams-ch-ml/ML/blob/master/clustering/K-Means%20%26%20Mini-Batch%20K-Means.ipynb\" target=\"_parent\"><img src=\"https://colab.research.google.com/assets/colab-badge.svg\" alt=\"Open In Colab\"/></a>"
      ]
    },
    {
      "metadata": {
        "id": "5WE0zu4jrBVt",
        "colab_type": "text"
      },
      "cell_type": "markdown",
      "source": [
        "## K-Means & Mini-Batch K-Means\n",
        "**sklearn.cluster.KMeans** is the standard K-Means clusturing function. When it is used, all data must be loaded into memory for processing. This is fine if you have small datasets that easily fit into the RAM memory of your system. If the dataset is greater than the physical RAM of your system, then you should consider using **sklearn.cluster.MiniBatchKMeans**. This will give similar results an KMean, but will process that dataset in small batches and then combine to results."
      ]
    },
    {
      "metadata": {
        "id": "33Hus98Mwfr0",
        "colab_type": "text"
      },
      "cell_type": "markdown",
      "source": [
        "First we import the Iris dataset and print out the column headers."
      ]
    },
    {
      "metadata": {
        "id": "jn5bMYN0rH51",
        "colab_type": "code",
        "colab": {}
      },
      "cell_type": "code",
      "source": [
        "from sklearn.datasets import load_iris"
      ],
      "execution_count": 0,
      "outputs": []
    },
    {
      "metadata": {
        "id": "WdB05nmCrOtY",
        "colab_type": "code",
        "colab": {
          "base_uri": "https://localhost:8080/",
          "height": 34
        },
        "outputId": "3c21be9e-fdae-4805-b5af-a59d1bf405e5"
      },
      "cell_type": "code",
      "source": [
        "data     = load_iris()\n",
        "print(\"Features :%s\" % data.feature_names)\n",
        "features = data.data\n",
        "labels   = data.target"
      ],
      "execution_count": 5,
      "outputs": [
        {
          "output_type": "stream",
          "text": [
            "Features :['sepal length (cm)', 'sepal width (cm)', 'petal length (cm)', 'petal width (cm)']\n"
          ],
          "name": "stdout"
        }
      ]
    },
    {
      "metadata": {
        "id": "HjNhdsTssIwg",
        "colab_type": "text"
      },
      "cell_type": "markdown",
      "source": [
        "## K-Means"
      ]
    },
    {
      "metadata": {
        "id": "vsrnXiNrrr22",
        "colab_type": "code",
        "colab": {}
      },
      "cell_type": "code",
      "source": [
        "from sklearn.cluster import KMeans"
      ],
      "execution_count": 0,
      "outputs": []
    },
    {
      "metadata": {
        "id": "wzcpa-Nyshxf",
        "colab_type": "code",
        "colab": {
          "base_uri": "https://localhost:8080/",
          "height": 68
        },
        "outputId": "fa6e6a04-11a1-4227-f2b9-e6f428f6d78b"
      },
      "cell_type": "code",
      "source": [
        "k_means = KMeans(n_clusters   = 3, \\\n",
        "                 init         = 'k-means++', \\\n",
        "                 max_iter     = 999, \\\n",
        "                 n_init       = 1, \\\n",
        "                 random_state = 101)\n",
        "k_means.fit(features)"
      ],
      "execution_count": 7,
      "outputs": [
        {
          "output_type": "execute_result",
          "data": {
            "text/plain": [
              "KMeans(algorithm='auto', copy_x=True, init='k-means++', max_iter=999,\n",
              "    n_clusters=3, n_init=1, n_jobs=None, precompute_distances='auto',\n",
              "    random_state=101, tol=0.0001, verbose=0)"
            ]
          },
          "metadata": {
            "tags": []
          },
          "execution_count": 7
        }
      ]
    },
    {
      "metadata": {
        "id": "tZVJg5R1tH3l",
        "colab_type": "text"
      },
      "cell_type": "markdown",
      "source": [
        "Plot our K-Means results\n",
        "\n",
        "**NOTE: ** %matplotlib inline allows the plots to be embeded into the Notebook.\n"
      ]
    },
    {
      "metadata": {
        "id": "85mLYjFVtMba",
        "colab_type": "code",
        "colab": {
          "base_uri": "https://localhost:8080/",
          "height": 300
        },
        "outputId": "364553f0-9de5-48ea-8edb-f5c270d162fa"
      },
      "cell_type": "code",
      "source": [
        "%matplotlib inline\n",
        "\n",
        "import matplotlib.pyplot as plt\n",
        "\n",
        "plt.scatter(features[:,0], \\\n",
        "            features[:,1], \\\n",
        "            s          = 2**7, \\\n",
        "            c          = labels, \\\n",
        "            edgecolors = 'white', \\\n",
        "            alpha      = 0.85, \\\n",
        "            cmap       = 'autumn')\n",
        "\n",
        "plt.grid() \n",
        "\n",
        "plt.xlabel(data.feature_names[0]) \n",
        "plt.ylabel(data.feature_names[1]) "
      ],
      "execution_count": 10,
      "outputs": [
        {
          "output_type": "execute_result",
          "data": {
            "text/plain": [
              "Text(0, 0.5, 'sepal width (cm)')"
            ]
          },
          "metadata": {
            "tags": []
          },
          "execution_count": 10
        },
        {
          "output_type": "display_data",
          "data": {
            "image/png": "[encoded data removed]",
            "text/plain": [
              "<Figure size 432x288 with 1 Axes>"
            ]
          },
          "metadata": {
            "tags": []
          }
        }
      ]
    },
    {
      "metadata": {
        "id": "Tgwuxl3wy-_H",
        "colab_type": "text"
      },
      "cell_type": "markdown",
      "source": [
        "Add a grid and labels"
      ]
    }
  ]
}