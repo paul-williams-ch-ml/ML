{
 "cells": [
  {
   "cell_type": "markdown",
   "id": "16c8b329-f2df-4704-b09d-40bec609a925",
   "metadata": {},
   "source": [
    "# Docling Example\n",
    "If you have a PDF document that you wish to easily process in your ML project. Here is a simple way to generate a Markdown version.\n",
    "</br>Source [repository](https://github.com/docling-project/docling)."
   ]
  },
  {
   "cell_type": "markdown",
   "id": "277ef11f-bb73-4799-aa43-6bc235399630",
   "metadata": {},
   "source": [
    "## Set up environmemt\n",
    "Create an environment with the command <code>conda create -n docling -python=3.12</code>. Start the environment woth the command <code>conda activate docling</code> and then install the following packages and then start Jupyter Lab with the comman <code>jupyter lab</code>."
   ]
  },
  {
   "cell_type": "code",
   "execution_count": null,
   "id": "5eb584bc-d04e-4ba2-ba49-524585379869",
   "metadata": {},
   "outputs": [],
   "source": [
    "%pip install docling\n",
    "%pip install jupyter"
   ]
  },
  {
   "cell_type": "markdown",
   "id": "f6dc69fe-59ec-4fea-995d-11adce01a4af",
   "metadata": {},
   "source": [
    "## Import packages for the demo"
   ]
  },
  {
   "cell_type": "code",
   "execution_count": null,
   "id": "bdc6dccc-288f-4055-9acc-af1ad657c947",
   "metadata": {},
   "outputs": [],
   "source": [
    "from docling.document_converter import DocumentConverter\n",
    "from IPython.display import Markdown, display"
   ]
  },
  {
   "cell_type": "markdown",
   "id": "74c55590-88ba-4087-bb71-0fc345ea35f3",
   "metadata": {},
   "source": [
    "## Define the location of the document that we wish to convert to Markdown."
   ]
  },
  {
   "cell_type": "code",
   "execution_count": null,
   "id": "849ddeed-ce5a-4363-9328-a32ddbf275bd",
   "metadata": {},
   "outputs": [],
   "source": [
    "source = \"https://arxiv.org/pdf/2408.09869\"  # document per local path or URL"
   ]
  },
  {
   "cell_type": "markdown",
   "id": "d116150a-e7da-4fa3-87ce-4dad38f56689",
   "metadata": {},
   "source": [
    "## Convert to Markdown"
   ]
  },
  {
   "cell_type": "code",
   "execution_count": null,
   "id": "932db763-8aa8-4d54-afc2-62209c3512a8",
   "metadata": {},
   "outputs": [],
   "source": [
    "# Create a converter\n",
    "converter = DocumentConverter()\n",
    "\n",
    "# Send the PDF document to the converter\n",
    "result    = converter.convert(source)"
   ]
  },
  {
   "cell_type": "markdown",
   "id": "87cf6814-a37b-430d-87e6-9f4d99bcb2d7",
   "metadata": {},
   "source": [
    "## Show the Document converted to Markdown"
   ]
  },
  {
   "cell_type": "code",
   "execution_count": null,
   "id": "cf2afa76-e5aa-4bb7-a389-a47d51808eef",
   "metadata": {},
   "outputs": [],
   "source": [
    "# Show the raw Markdown generated from the PDF document\n",
    "print(result.document.export_to_markdown()) "
   ]
  },
  {
   "cell_type": "markdown",
   "id": "a327e416-a4b1-4c93-aa09-1bcbdee27235",
   "metadata": {},
   "source": [
    "## Show the document as formatted Markdown"
   ]
  },
  {
   "cell_type": "code",
   "execution_count": null,
   "id": "0a7317c3-4f50-4119-9524-1b70bf3b3559",
   "metadata": {},
   "outputs": [],
   "source": [
    "# Show the formatted Markdown\n",
    "display(Markdown(result.document.export_to_markdown()))"
   ]
  },
  {
   "cell_type": "markdown",
   "id": "b8153ea4-76aa-44c7-a1b2-8185a460b6bf",
   "metadata": {},
   "source": [
    "## Write the document to a file"
   ]
  },
  {
   "cell_type": "code",
   "execution_count": null,
   "id": "6927c8a8-8c45-4e3d-8831-2287169fc38d",
   "metadata": {},
   "outputs": [],
   "source": [
    "with open(\"output.md\", \"w\") as file:\n",
    "    file.write(result.document.export_to_markdown())"
   ]
  }
 ],
 "metadata": {
  "kernelspec": {
   "display_name": "Python 3 (ipykernel)",
   "language": "python",
   "name": "python3"
  },
  "language_info": {
   "codemirror_mode": {
    "name": "ipython",
    "version": 3
   },
   "file_extension": ".py",
   "mimetype": "text/x-python",
   "name": "python",
   "nbconvert_exporter": "python",
   "pygments_lexer": "ipython3",
   "version": "3.12.11"
  }
 },
 "nbformat": 4,
 "nbformat_minor": 5
}
