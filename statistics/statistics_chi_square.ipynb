{
  "nbformat": 4,
  "nbformat_minor": 0,
  "metadata": {
    "colab": {
      "name": "statistics_chi-square.ipynb",
      "version": "0.3.2",
      "provenance": [],
      "include_colab_link": true
    },
    "language_info": {
      "codemirror_mode": {
        "name": "ipython",
        "version": 3
      },
      "file_extension": ".py",
      "mimetype": "text/x-python",
      "name": "python",
      "nbconvert_exporter": "python",
      "pygments_lexer": "ipython3",
      "version": "3.6.5"
    },
    "kernelspec": {
      "display_name": "Python 3",
      "language": "python",
      "name": "python3"
    }
  },
  "cells": [
    {
      "cell_type": "markdown",
      "metadata": {
        "id": "view-in-github",
        "colab_type": "text"
      },
      "source": [
        "<a href=\"https://colab.research.google.com/github/paul-williams-ch-ml/ML/blob/master/statistics/statistics_chi_square.ipynb\" target=\"_parent\"><img src=\"https://colab.research.google.com/assets/colab-badge.svg\" alt=\"Open In Colab\"/></a>"
      ]
    },
    {
      "metadata": {
        "id": "-UgmCldJ3cAd",
        "colab_type": "text"
      },
      "cell_type": "markdown",
      "source": [
        "### Chi-square: \n",
        "This test of independence is one of the most basic and common\n",
        "hypothesis tests in the statistical analysis of categorical data. Given two\n",
        "categorical random variables X and Y, the chi-square test of independence\n",
        "determines whether or not there exists a statistical dependence between them.\n",
        "\n",
        "The test is usually performed by calculating χ2 from the data and χ2 with\n",
        "(m-1, n-1) degrees from the table. A decision is made as to whether both\n",
        "variables are independant based on the actual value and table value,\n",
        "whichever is higher:"
      ]
    },
    {
      "metadata": {
        "id": "xt-C4G3g3cAf",
        "colab_type": "code",
        "colab": {}
      },
      "cell_type": "code",
      "source": [
        "import pandas as pd\n",
        "from scipy import stats"
      ],
      "execution_count": 0,
      "outputs": []
    },
    {
      "metadata": {
        "id": "SFotQU7V3cAj",
        "colab_type": "code",
        "colab": {}
      },
      "cell_type": "code",
      "source": [
        "survey = pd.read_csv(\"survey.csv\")"
      ],
      "execution_count": 0,
      "outputs": []
    },
    {
      "metadata": {
        "id": "bQOD68ZP3cAn",
        "colab_type": "text"
      },
      "cell_type": "markdown",
      "source": [
        "### Tabulating 2 variables with row & column variables respectively"
      ]
    },
    {
      "metadata": {
        "id": "Xa1l3n4N3cAo",
        "colab_type": "code",
        "colab": {}
      },
      "cell_type": "code",
      "source": [
        "survey_tab = pd.crosstab(survey.Smoke, survey.Exer, margins = True)"
      ],
      "execution_count": 0,
      "outputs": []
    },
    {
      "metadata": {
        "id": "GDYnCUCY3cAr",
        "colab_type": "text"
      },
      "cell_type": "markdown",
      "source": [
        "While creating a table using the crosstab function, we will obtain both row\n",
        "and column totals fields extra. However, in order to create the observed\n",
        "table, we need to extract the variables part and ignore the totals:"
      ]
    },
    {
      "metadata": {
        "id": "91uuaUeC3cAs",
        "colab_type": "text"
      },
      "cell_type": "markdown",
      "source": [
        "### Creating observed table for analysis"
      ]
    },
    {
      "metadata": {
        "id": "G3VKYkwX3cAt",
        "colab_type": "code",
        "colab": {}
      },
      "cell_type": "code",
      "source": [
        "observed = survey_tab.ix[0:4,0:3]"
      ],
      "execution_count": 0,
      "outputs": []
    },
    {
      "metadata": {
        "id": "gJZRX3gz3cAw",
        "colab_type": "code",
        "colab": {},
        "outputId": "da3ab17d-6396-423e-8d3d-59c0b16b0904"
      },
      "cell_type": "code",
      "source": [
        "contg = stats.chi2_contingency(observed= observed)\n",
        "p_value = round(contg[1],3)\n",
        "print (\"P-value is: \",p_value)"
      ],
      "execution_count": 0,
      "outputs": [
        {
          "output_type": "stream",
          "text": [
            "P-value is:  0.238\n"
          ],
          "name": "stdout"
        }
      ]
    }
  ]
}