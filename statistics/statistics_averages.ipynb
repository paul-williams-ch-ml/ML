{
  "nbformat": 4,
  "nbformat_minor": 0,
  "metadata": {
    "colab": {
      "name": "statistics_averages.ipynb",
      "version": "0.3.2",
      "provenance": [],
      "include_colab_link": true
    },
    "language_info": {
      "codemirror_mode": {
        "name": "ipython",
        "version": 3
      },
      "file_extension": ".py",
      "mimetype": "text/x-python",
      "name": "python",
      "nbconvert_exporter": "python",
      "pygments_lexer": "ipython3",
      "version": "3.6.5"
    },
    "kernelspec": {
      "display_name": "Python 3",
      "language": "python",
      "name": "python3"
    }
  },
  "cells": [
    {
      "cell_type": "markdown",
      "metadata": {
        "id": "view-in-github",
        "colab_type": "text"
      },
      "source": [
        "<a href=\"https://colab.research.google.com/github/paul-williams-ch-ml/ML/blob/master/statistics/statistics_averages.ipynb\" target=\"_parent\"><img src=\"https://colab.research.google.com/assets/colab-badge.svg\" alt=\"Open In Colab\"/></a>"
      ]
    },
    {
      "metadata": {
        "id": "_uxbRuIt4oz0",
        "colab_type": "text"
      },
      "cell_type": "markdown",
      "source": [
        "# Averages"
      ]
    },
    {
      "metadata": {
        "id": "z7WNnmGp4oJo",
        "colab_type": "code",
        "colab": {}
      },
      "cell_type": "code",
      "source": [
        "import numpy as np\n",
        "from scipy import stats"
      ],
      "execution_count": 0,
      "outputs": []
    },
    {
      "metadata": {
        "id": "_YKF_L1U4kA3",
        "colab_type": "code",
        "colab": {}
      },
      "cell_type": "code",
      "source": [
        "data = np.array([4,5,1,2,7,2,6,9,3])"
      ],
      "execution_count": 0,
      "outputs": []
    },
    {
      "metadata": {
        "id": "vN60Lcla4kA6",
        "colab_type": "text"
      },
      "cell_type": "markdown",
      "source": [
        "### Calculate Mean"
      ]
    },
    {
      "metadata": {
        "id": "l-ADTtMY4kA7",
        "colab_type": "code",
        "colab": {},
        "outputId": "1e82b6c2-5ec1-49e1-ffef-58d49b0d559c"
      },
      "cell_type": "code",
      "source": [
        "dt_mean = np.mean(data);\n",
        "print ('Mean :', round(dt_mean,2))"
      ],
      "execution_count": 0,
      "outputs": [
        {
          "output_type": "stream",
          "text": [
            "Mean : 4.33\n"
          ],
          "name": "stdout"
        }
      ]
    },
    {
      "metadata": {
        "id": "-g_MN6UU4kBE",
        "colab_type": "text"
      },
      "cell_type": "markdown",
      "source": [
        "### Calculate Median"
      ]
    },
    {
      "metadata": {
        "id": "eM4MYRuK4kBG",
        "colab_type": "code",
        "colab": {},
        "outputId": "3f501e03-59f2-4e82-b7f8-7ddee4f7aafd"
      },
      "cell_type": "code",
      "source": [
        "dt_median = np.median(data);\n",
        "print ('Median :', round(dt_median))"
      ],
      "execution_count": 0,
      "outputs": [
        {
          "output_type": "stream",
          "text": [
            "Median : 4.0\n"
          ],
          "name": "stdout"
        }
      ]
    },
    {
      "metadata": {
        "id": "kTyb3ElH4kBM",
        "colab_type": "text"
      },
      "cell_type": "markdown",
      "source": [
        "### Calculate Mode"
      ]
    },
    {
      "metadata": {
        "id": "z-wMCsMK4kBN",
        "colab_type": "code",
        "colab": {},
        "outputId": "12ebe2d0-79b0-446f-cfaf-6944fb485a7b"
      },
      "cell_type": "code",
      "source": [
        "dt_mode = stats.mode(data);\n",
        "print ('Mode :', round(dt_mode[0][0]))"
      ],
      "execution_count": 0,
      "outputs": [
        {
          "output_type": "stream",
          "text": [
            "Mode : 2\n"
          ],
          "name": "stdout"
        }
      ]
    }
  ]
}