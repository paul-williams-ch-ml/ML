{
  "nbformat": 4,
  "nbformat_minor": 0,
  "metadata": {
    "colab": {
      "name": "statistics_standard_deviation.ipynb",
      "version": "0.3.2",
      "provenance": [],
      "include_colab_link": true
    },
    "language_info": {
      "codemirror_mode": {
        "name": "ipython",
        "version": 3
      },
      "file_extension": ".py",
      "mimetype": "text/x-python",
      "name": "python",
      "nbconvert_exporter": "python",
      "pygments_lexer": "ipython3",
      "version": "3.6.5"
    },
    "kernelspec": {
      "display_name": "Python 3",
      "language": "python",
      "name": "python3"
    }
  },
  "cells": [
    {
      "cell_type": "markdown",
      "metadata": {
        "id": "view-in-github",
        "colab_type": "text"
      },
      "source": [
        "<a href=\"https://colab.research.google.com/github/paul-williams-ch-ml/ML/blob/master/statistics/statistics_standard_deviation.ipynb\" target=\"_parent\"><img src=\"https://colab.research.google.com/assets/colab-badge.svg\" alt=\"Open In Colab\"/></a>"
      ]
    },
    {
      "metadata": {
        "id": "2tMsbSc06M-M",
        "colab_type": "text"
      },
      "cell_type": "markdown",
      "source": [
        "# Standard Deviation"
      ]
    },
    {
      "metadata": {
        "id": "uCX4fYXN6MLb",
        "colab_type": "code",
        "colab": {}
      },
      "cell_type": "code",
      "source": [
        "import numpy as np\n",
        "from statistics import variance, stdev"
      ],
      "execution_count": 0,
      "outputs": []
    },
    {
      "metadata": {
        "id": "BNgIh7h25533",
        "colab_type": "code",
        "colab": {}
      },
      "cell_type": "code",
      "source": [
        "game_points = np.array([35,56,43,59,63,79,35,41,64,43,93,60,77,24,82])"
      ],
      "execution_count": 0,
      "outputs": []
    },
    {
      "metadata": {
        "id": "HWAwFCe65536",
        "colab_type": "text"
      },
      "cell_type": "markdown",
      "source": [
        "### Calculate Variance\n",
        "Dispersion is the variation in the data, and measures the\n",
        "inconsistencies in the value of variables in the data. Dispersion actually provides\n",
        "an idea about the spread rather than central values."
      ]
    },
    {
      "metadata": {
        "id": "19W_Vha05537",
        "colab_type": "code",
        "colab": {},
        "outputId": "ca371e16-5b30-4995-abf4-ec1e40e47807"
      },
      "cell_type": "code",
      "source": [
        "dt_var = variance(game_points)\n",
        "print(\"Sample variance:\", round(dt_var,2))"
      ],
      "execution_count": 0,
      "outputs": [
        {
          "output_type": "stream",
          "text": [
            "Sample variance: 400\n"
          ],
          "name": "stdout"
        }
      ]
    },
    {
      "metadata": {
        "id": "0Dt1Ht-j554C",
        "colab_type": "text"
      },
      "cell_type": "markdown",
      "source": [
        "### Calculate Standard Deviation\n",
        "This is the square root of variance. By applying the square\n",
        "root on variance, we measure the dispersion with respect to the original variable\n",
        "rather than square of the dimension:"
      ]
    },
    {
      "metadata": {
        "id": "4BO7jw3M554D",
        "colab_type": "code",
        "colab": {},
        "outputId": "5ebf1600-562e-4c4a-9c3a-83b9596c8e8a"
      },
      "cell_type": "code",
      "source": [
        "dt_std = stdev(game_points)\n",
        "print(\"Sample std.dev:\",round(dt_std))"
      ],
      "execution_count": 0,
      "outputs": [
        {
          "output_type": "stream",
          "text": [
            "Sample std.dev: 20\n"
          ],
          "name": "stdout"
        }
      ]
    },
    {
      "metadata": {
        "id": "A2rls3kP554H",
        "colab_type": "text"
      },
      "cell_type": "markdown",
      "source": [
        "### Calculate Range\n",
        "This is the difference between the maximum and minimum of the value."
      ]
    },
    {
      "metadata": {
        "id": "p_HSPgbf554I",
        "colab_type": "code",
        "colab": {},
        "outputId": "5019175f-85e7-4c90-d736-7e85ba2e7a9f"
      },
      "cell_type": "code",
      "source": [
        "dt_rng = np.max(game_points,axis=0) - np.min(game_points,axis=0)\n",
        "print(\"Range:\",dt_rng)"
      ],
      "execution_count": 0,
      "outputs": [
        {
          "output_type": "stream",
          "text": [
            "Range: 69\n"
          ],
          "name": "stdout"
        }
      ]
    },
    {
      "metadata": {
        "id": "lDXAo_F7554M",
        "colab_type": "text"
      },
      "cell_type": "markdown",
      "source": [
        "### Calculate Percentiles\n",
        "These are simply identical fragments of the data. Quantiles cover\n",
        "- percentiles, deciles, quartiles, and so on. These measures are calculated after\n",
        "arranging the data in ascending order:\n",
        "Percentile: This is nothing but the percentage of data points below\n",
        "the value of the original whole data. The median is the 50th\n",
        "percentile, as the number of data points below the median is about\n",
        "50 percent of the data.\n",
        "- Decile: This is 10th percentile, which means the number of data\n",
        "points below the decile is 10 percent of the whole data.\n",
        "- Quartile: This is one-fourth of the data, and also is the 25th\n",
        "percentile. The first quartile is 25 percent of the data, the second\n",
        "quartile is 50 percent of the data, the third quartile is 75 percent of\n",
        "the data. The second quartile is also known as the median or 50th\n",
        "percentile or 5th decile."
      ]
    },
    {
      "metadata": {
        "id": "2lRR6R-g554N",
        "colab_type": "code",
        "colab": {},
        "outputId": "274d020d-11cd-4783-b973-c5566e2e9617"
      },
      "cell_type": "code",
      "source": [
        "print(\"Quantiles:\")\n",
        "for val in [20,80,100]:\n",
        "    dt_qntls = np.percentile(game_points,val)\n",
        "    print(str(val)+\"%\",dt_qntls)"
      ],
      "execution_count": 0,
      "outputs": [
        {
          "output_type": "stream",
          "text": [
            "Quantiles:\n",
            "20% 39.8\n",
            "80% 77.4\n",
            "100% 93.0\n"
          ],
          "name": "stdout"
        }
      ]
    },
    {
      "metadata": {
        "id": "vnMQi6x2554U",
        "colab_type": "text"
      },
      "cell_type": "markdown",
      "source": [
        "### Calculate IQR\n",
        "Interquartile range: This is the difference between the third\n",
        "quartile and first quartile. It is effective in identifying outliers in\n",
        "data. The interquartile range describes the middle 50 percent of the\n",
        "data points."
      ]
    },
    {
      "metadata": {
        "id": "fxYUdMj7554V",
        "colab_type": "code",
        "colab": {},
        "outputId": "4a9b3a0e-b2e3-460b-ba5f-6ab81e6397a7"
      },
      "cell_type": "code",
      "source": [
        "q75, q25 = np.percentile(game_points,[75,25])\n",
        "print(\"Inter quartile range:\",q75 - q25)"
      ],
      "execution_count": 0,
      "outputs": [
        {
          "output_type": "stream",
          "text": [
            "Inter quartile range: 28.5\n"
          ],
          "name": "stdout"
        }
      ]
    }
  ]
}