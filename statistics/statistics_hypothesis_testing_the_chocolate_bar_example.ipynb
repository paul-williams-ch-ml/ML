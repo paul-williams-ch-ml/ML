{
  "nbformat": 4,
  "nbformat_minor": 0,
  "metadata": {
    "colab": {
      "name": "statistics_chocolate_bar_example.ipynb",
      "version": "0.3.2",
      "provenance": [],
      "include_colab_link": true
    },
    "language_info": {
      "codemirror_mode": {
        "name": "ipython",
        "version": 3
      },
      "file_extension": ".py",
      "mimetype": "text/x-python",
      "name": "python",
      "nbconvert_exporter": "python",
      "pygments_lexer": "ipython3",
      "version": "3.6.5"
    },
    "kernelspec": {
      "display_name": "Python 3",
      "language": "python",
      "name": "python3"
    }
  },
  "cells": [
    {
      "cell_type": "markdown",
      "metadata": {
        "id": "view-in-github",
        "colab_type": "text"
      },
      "source": [
        "<a href=\"https://colab.research.google.com/github/paul-williams-ch-ml/ML/blob/master/statistics/statistics_hypothesis_testing_the_chocolate_bar_example.ipynb\" target=\"_parent\"><img src=\"https://colab.research.google.com/assets/colab-badge.svg\" alt=\"Open In Colab\"/></a>"
      ]
    },
    {
      "metadata": {
        "id": "YJSQ2t6e5ClS",
        "colab_type": "text"
      },
      "cell_type": "markdown",
      "source": [
        "## Hypothesis testing: \n",
        "A chocolate manufacturer who is also your\n",
        "friend claims that all chocolates produced from his factory weigh at least 1,000 g\n",
        "and you have got a funny feeling that it might not be true; you both collected a\n",
        "sample of 30 chocolates and found that the average chocolate weight as 990 g\n",
        "with sample standard deviation as 12.5 g. Given the 0.05 significance level, can\n",
        "we reject the claim made by your friend?\n",
        "\n",
        "The null hypothesis is that μ0 ≥ 1000 (all chocolates weigh more than 1,000 g)."
      ]
    },
    {
      "metadata": {
        "id": "O6CJ8k8Y5ClU",
        "colab_type": "code",
        "colab": {}
      },
      "cell_type": "code",
      "source": [
        "import numpy as np \n",
        "from scipy import stats"
      ],
      "execution_count": 0,
      "outputs": []
    },
    {
      "metadata": {
        "id": "sJjhJDcw5ClY",
        "colab_type": "code",
        "colab": {}
      },
      "cell_type": "code",
      "source": [
        "xbar = 990; mu0 = 1000; s = 12.5; n = 30"
      ],
      "execution_count": 0,
      "outputs": []
    },
    {
      "metadata": {
        "id": "dUJAun6h5Cld",
        "colab_type": "text"
      },
      "cell_type": "markdown",
      "source": [
        "### Test Statistics"
      ]
    },
    {
      "metadata": {
        "id": "cM7RwXvf5Clf",
        "colab_type": "code",
        "colab": {},
        "outputId": "a038a135-14d9-44c1-c63d-603a5e60bf0f"
      },
      "cell_type": "code",
      "source": [
        "t_smple = (xbar-mu0)/(s/np.sqrt(float(n))); print (\"TestStatistic:\",round(t_smple,2))"
      ],
      "execution_count": 0,
      "outputs": [
        {
          "output_type": "stream",
          "text": [
            "TestStatistic: -4.38\n"
          ],
          "name": "stdout"
        }
      ]
    },
    {
      "metadata": {
        "id": "kgPL_29S5Cln",
        "colab_type": "text"
      },
      "cell_type": "markdown",
      "source": [
        "### Critical value from t-table"
      ]
    },
    {
      "metadata": {
        "id": "3dWfAhvC5Clp",
        "colab_type": "code",
        "colab": {},
        "outputId": "b95a7760-035c-4053-fe6b-963dbe5bd819"
      },
      "cell_type": "code",
      "source": [
        "alpha = 0.05\n",
        "t_alpha = stats.t.ppf(alpha,n-1); print (\"Critical value from t-table:\",round(t_alpha,3))"
      ],
      "execution_count": 0,
      "outputs": [
        {
          "output_type": "stream",
          "text": [
            "Critical value from t-table: -1.699\n"
          ],
          "name": "stdout"
        }
      ]
    },
    {
      "metadata": {
        "id": "dP9tmYB35Clt",
        "colab_type": "text"
      },
      "cell_type": "markdown",
      "source": [
        "### Lower tail p-value from t-table\n"
      ]
    },
    {
      "metadata": {
        "id": "sY_UBxb-5Clu",
        "colab_type": "code",
        "colab": {},
        "outputId": "075f1512-b36b-41b5-a1c9-65e047bc1b31"
      },
      "cell_type": "code",
      "source": [
        "p_val = stats.t.sf(np.abs(t_smple), n-1); print (\"Lower tail p-value from t-table\", p_val)"
      ],
      "execution_count": 0,
      "outputs": [
        {
          "output_type": "stream",
          "text": [
            "Lower tail p-value from t-table 7.03502572901e-05\n"
          ],
          "name": "stdout"
        }
      ]
    },
    {
      "metadata": {
        "id": "SkZitFVD5Clz",
        "colab_type": "text"
      },
      "cell_type": "markdown",
      "source": [
        "### Type I and II error: \n",
        "Hypothesis testing is usually done on the samples rather\n",
        "than the entire population, due to the practical constraints of available resources\n",
        "to collect all the available data. However, performing inferences about the\n",
        "population from samples comes with its own costs, such as rejecting good results\n",
        "or accepting false results, not to mention separately, when increases in sample\n",
        "size lead to minimizing type I and II errors:\n",
        "Type I error: Rejecting a null hypothesis when it is true\n",
        "Type II error: Accepting a null hypothesis when it is false"
      ]
    }
  ]
}