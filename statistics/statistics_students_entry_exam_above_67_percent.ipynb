{
  "nbformat": 4,
  "nbformat_minor": 0,
  "metadata": {
    "colab": {
      "name": "statistics_students_entry_exam_above_67_percent.ipynb",
      "version": "0.3.2",
      "provenance": [],
      "include_colab_link": true
    },
    "language_info": {
      "codemirror_mode": {
        "name": "ipython",
        "version": 3
      },
      "file_extension": ".py",
      "mimetype": "text/x-python",
      "name": "python",
      "nbconvert_exporter": "python",
      "pygments_lexer": "ipython3",
      "version": "3.6.5"
    },
    "kernelspec": {
      "display_name": "Python 3",
      "language": "python",
      "name": "python3"
    }
  },
  "cells": [
    {
      "cell_type": "markdown",
      "metadata": {
        "id": "view-in-github",
        "colab_type": "text"
      },
      "source": [
        "<a href=\"https://colab.research.google.com/github/paul-williams-ch-ml/ML/blob/master/statistics/statistics_students_entry_exam_above_67_percent.ipynb\" target=\"_parent\"><img src=\"https://colab.research.google.com/assets/colab-badge.svg\" alt=\"Open In Colab\"/></a>"
      ]
    },
    {
      "metadata": {
        "id": "pk75IcWc60ao",
        "colab_type": "text"
      },
      "cell_type": "markdown",
      "source": [
        "### Normal distribution: \n",
        "This is very important in statistics because of the central\n",
        "limit theorem, which states that the population of all possible samples of size n\n",
        "from a population with mean μ and variance σ2 approaches a normal\n",
        "distribution:\n",
        "    \n",
        "Assume that the test scores of an entrance exam fit a normal\n",
        "distribution. Furthermore, the mean test score is 52 and the standard\n",
        "deviation is 16.3. What is the percentage of students scoring 67 or more in the\n",
        "exam?"
      ]
    },
    {
      "metadata": {
        "id": "6KfF3_YE60ap",
        "colab_type": "code",
        "colab": {}
      },
      "cell_type": "code",
      "source": [
        "from scipy import stats"
      ],
      "execution_count": 0,
      "outputs": []
    },
    {
      "metadata": {
        "id": "OsTOx1zp60au",
        "colab_type": "code",
        "colab": {}
      },
      "cell_type": "code",
      "source": [
        "xbar = 67; mu0 = 52; s = 16.3"
      ],
      "execution_count": 0,
      "outputs": []
    },
    {
      "metadata": {
        "id": "5SXiE81D60ax",
        "colab_type": "text"
      },
      "cell_type": "markdown",
      "source": [
        "### Calculating z-score"
      ]
    },
    {
      "metadata": {
        "id": "SvHX0CpL60ay",
        "colab_type": "code",
        "colab": {}
      },
      "cell_type": "code",
      "source": [
        "z = (xbar-mu0)/s"
      ],
      "execution_count": 0,
      "outputs": []
    },
    {
      "metadata": {
        "id": "UwOyG3eb60a2",
        "colab_type": "text"
      },
      "cell_type": "markdown",
      "source": [
        "### Calculating probability under the curve\n"
      ]
    },
    {
      "metadata": {
        "id": "dOTg_fnO60a4",
        "colab_type": "code",
        "colab": {},
        "outputId": "cb80be54-aa87-4d73-ebc4-d399dcbc838c"
      },
      "cell_type": "code",
      "source": [
        "p_val = 1- stats.norm.cdf(z)\n",
        "print (\"Prob. to score more than 67 is\",round(p_val*100,2),\"%\")"
      ],
      "execution_count": 0,
      "outputs": [
        {
          "output_type": "stream",
          "text": [
            "Prob. to score more than 67 is 17.87 %\n"
          ],
          "name": "stdout"
        }
      ]
    }
  ]
}